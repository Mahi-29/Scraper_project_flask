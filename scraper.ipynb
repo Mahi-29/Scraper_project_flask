{
 "cells": [
  {
   "cell_type": "code",
   "execution_count": 6,
   "metadata": {},
   "outputs": [],
   "source": [
    "import requests\n",
    "import logging\n",
    "import os\n",
    "from bs4 import BeautifulSoup\n",
    "from urllib.request import urlopen"
   ]
  },
  {
   "cell_type": "code",
   "execution_count": 7,
   "metadata": {},
   "outputs": [],
   "source": [
    "save_dir = \"images/\"\n",
    "if not os.path.exists(save_dir):\n",
    "    os.mkdir(save_dir)\n",
    "    "
   ]
  },
  {
   "cell_type": "code",
   "execution_count": 43,
   "metadata": {},
   "outputs": [],
   "source": [
    "query = \"dog\"\n",
    "url=f\"https://www.google.com/search?q={query}+3&tbm=isch&ved=2ahUKEwj2iOGkyrWAAxWTpekKHaqECloQ2-cCegQIABAA&oq=chandra&gs_lcp=CgNpbWcQARgAMg0IABCKBRCxAxCDARBDMgcIABCKBRBDMgcIABCKBRBDMgQIABADMggIABCxAxCDATIHCAAQigUQQzIHCAAQigUQQzIKCAAQigUQsQMQQzINCAAQigUQsQMQgwEQQzIFCAAQgAQ6BAgjECc6BggAEAcQHjoHCAAQGBCABDoHCCMQ6gIQJzoICAAQgAQQsQM6CwgAEIAEELEDEIMBUPUdWJE3YJxEaAJwAHgAgAHBAYgB2AmSAQMxLjiYAQCgAQGqAQtnd3Mtd2l6LWltZ7ABCsABAQ&sclient=img&ei=M-XFZLajK5PLpgeqiarQBQ&bih=732&biw=888&rlz=1C1ONGR_enIN1054IN1054\""
   ]
  },
  {
   "cell_type": "code",
   "execution_count": 44,
   "metadata": {},
   "outputs": [
    {
     "name": "stdout",
     "output_type": "stream",
     "text": [
      "https://www.google.com/search?q=dog+3&tbm=isch&ved=2ahUKEwj2iOGkyrWAAxWTpekKHaqECloQ2-cCegQIABAA&oq=chandra&gs_lcp=CgNpbWcQARgAMg0IABCKBRCxAxCDARBDMgcIABCKBRBDMgcIABCKBRBDMgQIABADMggIABCxAxCDATIHCAAQigUQQzIHCAAQigUQQzIKCAAQigUQsQMQQzINCAAQigUQsQMQgwEQQzIFCAAQgAQ6BAgjECc6BggAEAcQHjoHCAAQGBCABDoHCCMQ6gIQJzoICAAQgAQQsQM6CwgAEIAEELEDEIMBUPUdWJE3YJxEaAJwAHgAgAHBAYgB2AmSAQMxLjiYAQCgAQGqAQtnd3Mtd2l6LWltZ7ABCsABAQ&sclient=img&ei=M-XFZLajK5PLpgeqiarQBQ&bih=732&biw=888&rlz=1C1ONGR_enIN1054IN1054\n"
     ]
    }
   ],
   "source": [
    "print(url)\n",
    "Response=requests.get(url)"
   ]
  },
  {
   "cell_type": "code",
   "execution_count": 45,
   "metadata": {},
   "outputs": [],
   "source": [
    "soup= BeautifulSoup(Response.content, \"html.parser\")"
   ]
  },
  {
   "cell_type": "code",
   "execution_count": 46,
   "metadata": {},
   "outputs": [],
   "source": [
    "image_tag = soup.find_all(\"img\")"
   ]
  },
  {
   "cell_type": "code",
   "execution_count": 47,
   "metadata": {},
   "outputs": [],
   "source": [
    "del image_tag[0]"
   ]
  },
  {
   "cell_type": "code",
   "execution_count": 48,
   "metadata": {},
   "outputs": [
    {
     "data": {
      "text/plain": [
       "[<img alt=\"\" class=\"yWs4tf\" src=\"https://encrypted-tbn0.gstatic.com/images?q=tbn:ANd9GcQHkJiU00KCE0AYFJv-2FP9Emb25GUfF--TLIYMYhkXlGOTPJxaw4gpfr3zGvg&amp;s\"/>,\n",
       " <img alt=\"\" class=\"yWs4tf\" src=\"https://encrypted-tbn0.gstatic.com/images?q=tbn:ANd9GcSWIc15emT9VIVrI52sPWrnJlfnXk0LlZ-sRUnVM0op3FXwftUZwZkmSOVrzg&amp;s\"/>,\n",
       " <img alt=\"\" class=\"yWs4tf\" src=\"https://encrypted-tbn0.gstatic.com/images?q=tbn:ANd9GcSI5ZnGdrgoysMcjnSMWjkn8hLUlwgccySRmitItYFqLBdDiYUkChKfM534YQ&amp;s\"/>,\n",
       " <img alt=\"\" class=\"yWs4tf\" src=\"https://encrypted-tbn0.gstatic.com/images?q=tbn:ANd9GcQ7S3Hn3gDqj7rbIFHwaSCAVVNR2T6pqC3D72plxyPJW2IaAwcZpuQAvH97&amp;s\"/>,\n",
       " <img alt=\"\" class=\"yWs4tf\" src=\"https://encrypted-tbn0.gstatic.com/images?q=tbn:ANd9GcQ7QVXesniCyn17nlkkOPyjLDVoC6f5cqyIyCHWuk8Os4EFuInmI0_jlvN_9tM&amp;s\"/>,\n",
       " <img alt=\"\" class=\"yWs4tf\" src=\"https://encrypted-tbn0.gstatic.com/images?q=tbn:ANd9GcSAA2WjnrVfomYDU0LmBXZFQXwf2J8oh13XxnzRp1qTx9HpwJUFWlHKUNygXYU&amp;s\"/>,\n",
       " <img alt=\"\" class=\"yWs4tf\" src=\"https://encrypted-tbn0.gstatic.com/images?q=tbn:ANd9GcRSvSfyvBdG4LCUCITuzmvaS5FnnpfLDd_P7_13Vp1JeWwYuZMyRXNDPr37zg&amp;s\"/>,\n",
       " <img alt=\"\" class=\"yWs4tf\" src=\"https://encrypted-tbn0.gstatic.com/images?q=tbn:ANd9GcTKNoecwci6q_UReTmnMYDV8b-OHh9UUFc_h5Bl9RKjBnkZTQ5Q_6v19qGlHwo&amp;s\"/>,\n",
       " <img alt=\"\" class=\"yWs4tf\" src=\"https://encrypted-tbn0.gstatic.com/images?q=tbn:ANd9GcQL3MOHSU5-uLWXB1yfRXXawl7v0KCdxoaL5iZrjz3QR21gnVpULD_5U6wm7Q&amp;s\"/>,\n",
       " <img alt=\"\" class=\"yWs4tf\" src=\"https://encrypted-tbn0.gstatic.com/images?q=tbn:ANd9GcSMDgZsriwILpic94oVwBzjhyqXmj2jHwA2wgle5vp_od8oY5hsUbyNwYQ1_Nk&amp;s\"/>,\n",
       " <img alt=\"\" class=\"yWs4tf\" src=\"https://encrypted-tbn0.gstatic.com/images?q=tbn:ANd9GcQV7rP1YzUWGsoslJ44QJzdrB88Dcmo-H6CD5DLd03ADo-oREcUCk05xYw6Ng&amp;s\"/>,\n",
       " <img alt=\"\" class=\"yWs4tf\" src=\"https://encrypted-tbn0.gstatic.com/images?q=tbn:ANd9GcQc-bdpBUUeKzc-c6G1prsGQT00fT82lZHqXMa0zLJKyyau6AQrJbrG8IiNV0M&amp;s\"/>,\n",
       " <img alt=\"\" class=\"yWs4tf\" src=\"https://encrypted-tbn0.gstatic.com/images?q=tbn:ANd9GcQUY7YOC4R5M0eBHYAM8uZ37wRn0ORctM7qVk-UiNLR_2OCmdh-43n-tZNh934&amp;s\"/>,\n",
       " <img alt=\"\" class=\"yWs4tf\" src=\"https://encrypted-tbn0.gstatic.com/images?q=tbn:ANd9GcQyGUPIFWDg92uKFPRlw38wvndExkbo16IjhNATCLgSzRkwEa_cUZ9gPVKWYoc&amp;s\"/>,\n",
       " <img alt=\"\" class=\"yWs4tf\" src=\"https://encrypted-tbn0.gstatic.com/images?q=tbn:ANd9GcTzjYhYATIuur-fFCLudpKYq9NLi8RjBDrjX7uV_Gsu_h9pFG9_-Ejv-0qjkbo&amp;s\"/>,\n",
       " <img alt=\"\" class=\"yWs4tf\" src=\"https://encrypted-tbn0.gstatic.com/images?q=tbn:ANd9GcSSFih0F6SahUgzwjjqu92IDPL9Upkp2huS00XS3O19NoU3arZSrhYpuPx1SA&amp;s\"/>,\n",
       " <img alt=\"\" class=\"yWs4tf\" src=\"https://encrypted-tbn0.gstatic.com/images?q=tbn:ANd9GcQQYVkuwcRQiUsahEMyi95SIBsPcqsSHGhastPblvAN35SKhNPAqwSeZjc7iMg&amp;s\"/>,\n",
       " <img alt=\"\" class=\"yWs4tf\" src=\"https://encrypted-tbn0.gstatic.com/images?q=tbn:ANd9GcR_ekioP35tVcCclUORvJM9nbDRsPj-dgEt31-XKPtAMRLcKFNUIRKe3sNfM5U&amp;s\"/>,\n",
       " <img alt=\"\" class=\"yWs4tf\" src=\"https://encrypted-tbn0.gstatic.com/images?q=tbn:ANd9GcTMJSJh_cPFn7ugdILHSK9bSAKnbKduH_HG-QQfhBepK1UyqcfU7a55CUEO0g&amp;s\"/>,\n",
       " <img alt=\"\" class=\"yWs4tf\" src=\"https://encrypted-tbn0.gstatic.com/images?q=tbn:ANd9GcTealA8_VMAqmbp-CP3cbNrH7tRG_ui8Y_B__yJf04p7CbCusL_iDPT4lBnQg&amp;s\"/>]"
      ]
     },
     "execution_count": 48,
     "metadata": {},
     "output_type": "execute_result"
    }
   ],
   "source": [
    "image_tag"
   ]
  },
  {
   "cell_type": "code",
   "execution_count": 49,
   "metadata": {},
   "outputs": [
    {
     "data": {
      "text/plain": [
       "20"
      ]
     },
     "execution_count": 49,
     "metadata": {},
     "output_type": "execute_result"
    }
   ],
   "source": [
    "len(image_tag)"
   ]
  },
  {
   "cell_type": "code",
   "execution_count": 50,
   "metadata": {},
   "outputs": [],
   "source": [
    "for i in image_tag:\n",
    "    image_url=i['src']\n",
    "    image_data=requests.get(image_url).content #will give binary content of image\n",
    "    with open(os.path.join(save_dir,f\"{query}_{image_tag.index(i)}.jpg\"),'wb') as f:\n",
    "        f.write(image_data)\n",
    "    "
   ]
  },
  {
   "cell_type": "code",
   "execution_count": null,
   "metadata": {},
   "outputs": [],
   "source": []
  },
  {
   "cell_type": "code",
   "execution_count": null,
   "metadata": {},
   "outputs": [],
   "source": []
  }
 ],
 "metadata": {
  "kernelspec": {
   "display_name": "Python 3",
   "language": "python",
   "name": "python3"
  },
  "language_info": {
   "codemirror_mode": {
    "name": "ipython",
    "version": 3
   },
   "file_extension": ".py",
   "mimetype": "text/x-python",
   "name": "python",
   "nbconvert_exporter": "python",
   "pygments_lexer": "ipython3",
   "version": "3.8.0"
  },
  "orig_nbformat": 4
 },
 "nbformat": 4,
 "nbformat_minor": 2
}
